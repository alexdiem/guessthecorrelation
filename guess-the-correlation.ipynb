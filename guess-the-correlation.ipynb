{
 "cells": [
  {
   "cell_type": "code",
   "execution_count": null,
   "id": "7682b5ed",
   "metadata": {},
   "outputs": [],
   "source": [
    "import random\n",
    "import numpy as np \n",
    "import matplotlib.pyplot as plt\n",
    "import seaborn as sns\n",
    "import pandas as pd\n",
    "\n",
    "lives = 3\n",
    "Score = 0\n",
    "while lives > 0:\n",
    "    x = np.random.normal(0,random.randint(0,200),random.randint(10,500))\n",
    "    dev = random.randint(0,300)\n",
    "    y = [i+np.random.normal(0,dev) for i in x]\n",
    "    df = pd.DataFrame({'x':x,'y':y})\n",
    "    sns.jointplot(x='x', y='y', data=df, kind='reg', joint_kws={'line_kws':{'color':'red'}})\n",
    "    plt.show()\n",
    "    corr = np.corrcoef(x,y)[0][1]\n",
    "    corrpercent = 100*corr\n",
    "    while True:\n",
    "        try:\n",
    "            uinput = float(input('Gjett korrelasjonen mellom 0 og 100% '))\n",
    "            break\n",
    "        except ValueError:\n",
    "            print('Input must be float!')\n",
    "            \n",
    "    if abs(corrpercent-uinput) > 10:\n",
    "        lives -= 1\n",
    "        print('Feil! Korrelasjon: '+ str(corrpercent) +' Liv: ' + str(lives))\n",
    "    elif abs(corrpercent-uinput) < 3:\n",
    "        lives  += 1\n",
    "        Score += 5\n",
    "        print('Akkurat! Korrelasjon: '+ str(corrpercent) +' Du får et ekstra liv! Liv: ' + str(lives) +' Score: ' + str(Score))    \n",
    "    else:\n",
    "        Score += 1\n",
    "        print('Bra! Korrelasjon: '+ str(corrpercent) +' Resultat: ' + str(Score))\n",
    "        \n",
    "print('Game over! Resultat: '+ str(Score))"
   ]
  },
  {
   "cell_type": "code",
   "execution_count": null,
   "id": "c7ad8692",
   "metadata": {},
   "outputs": [],
   "source": []
  }
 ],
 "metadata": {
  "kernelspec": {
   "display_name": "Python 3 (ipykernel)",
   "language": "python",
   "name": "python3"
  },
  "language_info": {
   "codemirror_mode": {
    "name": "ipython",
    "version": 3
   },
   "file_extension": ".py",
   "mimetype": "text/x-python",
   "name": "python",
   "nbconvert_exporter": "python",
   "pygments_lexer": "ipython3",
   "version": "3.10.4"
  }
 },
 "nbformat": 4,
 "nbformat_minor": 5
}
